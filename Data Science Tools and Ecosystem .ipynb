{
 "cells": [
  {
   "cell_type": "markdown",
   "id": "1979bd07",
   "metadata": {},
   "source": [
    "# Data Science Tools and Ecosystem"
   ]
  },
  {
   "cell_type": "markdown",
   "id": "1a8dc104",
   "metadata": {},
   "source": [
    "## In this notebook, Data Science Tools and Ecosystem are summarized."
   ]
  },
  {
   "cell_type": "markdown",
   "id": "5bba35c1",
   "metadata": {},
   "source": [
    "### __Objevtives__:\n",
    "\n",
    "- List of some popular languages for Data Science\n",
    "- List of some Data science tools\n",
    "- Examples of evaluating arithmetic expressions in Python\n",
    "- Create table that contian some of Developement Enviroment used in Data Science\n",
    "- Create Jupyter notebook named \"DataScienceEcosystem.ipynb\"\n",
    "- Create a markdown cell to indicate the auther name of this jupyter notebook\n",
    "- Share Jupyter notebook \"DataScienceEcosystem.ipynb\" through Github\n",
    "\n"
   ]
  },
  {
   "cell_type": "markdown",
   "id": "d4f8057e",
   "metadata": {},
   "source": [
    "### Some of the popular languages that Data Scientists use are:\n",
    "1. Python\n",
    "2. R\n",
    "3. SQL\n",
    "4. Scala\n",
    "5. Julia\n",
    "6. C++\n",
    "7. Java"
   ]
  },
  {
   "cell_type": "markdown",
   "id": "1d96357a",
   "metadata": {},
   "source": [
    "### Some of the commonly used libraries used by Data Scientists include:\n",
    "1. Numpy\n",
    "2. Pandas\n",
    "2. Matplotlib\n",
    "4. Scikit-learn\n",
    "5. Keras\n",
    "6. GGplot\n",
    "7. Caret\n",
    "8. Tenserflow\n",
    "9. Apache spark"
   ]
  },
  {
   "cell_type": "markdown",
   "id": "8e93a326",
   "metadata": {},
   "source": [
    "|Data Science Tools|\n",
    "|:-----------------|\n",
    "| Jupyter Notebook |\n",
    "| Jupyter lab      |\n",
    "| RStudio          |\n",
    "| Knime            |"
   ]
  },
  {
   "cell_type": "markdown",
   "id": "4343fd56",
   "metadata": {},
   "source": [
    "### Below are a few examples of evaluating arithmetic expressions in Python"
   ]
  },
  {
   "cell_type": "code",
   "execution_count": 1,
   "id": "311a61ba",
   "metadata": {},
   "outputs": [
    {
     "data": {
      "text/plain": [
       "17"
      ]
     },
     "execution_count": 1,
     "metadata": {},
     "output_type": "execute_result"
    }
   ],
   "source": [
    "# This a simple arithmetic expression to mutiply then add integers\n",
    "(3*4)+5"
   ]
  },
  {
   "cell_type": "code",
   "execution_count": 2,
   "id": "42e8d47b",
   "metadata": {},
   "outputs": [
    {
     "name": "stdout",
     "output_type": "stream",
     "text": [
      "200 minutes in hours: 3.3333333333333335\n"
     ]
    }
   ],
   "source": [
    "# This will convert 200 minutes to hours by diving by 60\n",
    "\n",
    "x = 200\n",
    "y = 60\n",
    "z = x/y\n",
    "\n",
    "print(\"200 minutes in hours:\",z)\n"
   ]
  },
  {
   "cell_type": "markdown",
   "id": "04489b83",
   "metadata": {},
   "source": [
    "## Auther:\n",
    "Yaseen Al-Zuraiqy"
   ]
  },
  {
   "cell_type": "code",
   "execution_count": null,
   "id": "10063f6f",
   "metadata": {},
   "outputs": [],
   "source": []
  }
 ],
 "metadata": {
  "kernelspec": {
   "display_name": "Python 3 (ipykernel)",
   "language": "python",
   "name": "python3"
  },
  "language_info": {
   "codemirror_mode": {
    "name": "ipython",
    "version": 3
   },
   "file_extension": ".py",
   "mimetype": "text/x-python",
   "name": "python",
   "nbconvert_exporter": "python",
   "pygments_lexer": "ipython3",
   "version": "3.11.5"
  }
 },
 "nbformat": 4,
 "nbformat_minor": 5
}
